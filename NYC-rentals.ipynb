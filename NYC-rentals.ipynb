{
 "cells": [
  {
   "cell_type": "code",
   "execution_count": 22,
   "id": "937d2d80",
   "metadata": {},
   "outputs": [],
   "source": [
    "import numpy as np\n",
    "import pandas as pd\n",
    "import datetime as dt"
   ]
  },
  {
   "cell_type": "code",
   "execution_count": 23,
   "id": "ef8d3f35",
   "metadata": {},
   "outputs": [],
   "source": [
    "#importing the data\n",
    "\n",
    "prices = pd.read_csv(\"dataairbnb_price.csv\")\n",
    "xls = pd.ExcelFile(\"dataairbnb_room_type.xlsx\")\n",
    "room_types = xls.parse(0)\n",
    "reviews = pd.read_csv(\"dataairbnb_last_review.tsv\", sep=\"\\t\")"
   ]
  },
  {
   "cell_type": "code",
   "execution_count": 24,
   "id": "99329e68",
   "metadata": {},
   "outputs": [],
   "source": [
    "#cleaning price column\n",
    "\n",
    "prices[\"price\"] = prices[\"price\"].str.replace('dollars',' ')\n",
    "prices[\"price\"] = pd.to_numeric(prices['price'])"
   ]
  },
  {
   "cell_type": "code",
   "execution_count": 25,
   "id": "e47dbb62",
   "metadata": {},
   "outputs": [],
   "source": [
    "#Subset prices for listings costing $0, free_listings\n",
    "\n",
    "free_listings = prices[\"price\"] == 0"
   ]
  },
  {
   "cell_type": "code",
   "execution_count": 26,
   "id": "73d68632",
   "metadata": {},
   "outputs": [],
   "source": [
    "#Update prices by removing all free listings from prices\n",
    "\n",
    "prices = prices.loc[~free_listings]"
   ]
  },
  {
   "cell_type": "code",
   "execution_count": 27,
   "id": "40313dc9",
   "metadata": {},
   "outputs": [
    {
     "data": {
      "text/html": [
       "<div>\n",
       "<style scoped>\n",
       "    .dataframe tbody tr th:only-of-type {\n",
       "        vertical-align: middle;\n",
       "    }\n",
       "\n",
       "    .dataframe tbody tr th {\n",
       "        vertical-align: top;\n",
       "    }\n",
       "\n",
       "    .dataframe thead th {\n",
       "        text-align: right;\n",
       "    }\n",
       "</style>\n",
       "<table border=\"1\" class=\"dataframe\">\n",
       "  <thead>\n",
       "    <tr style=\"text-align: right;\">\n",
       "      <th></th>\n",
       "      <th>listing_id</th>\n",
       "      <th>price</th>\n",
       "      <th>nbhood_full</th>\n",
       "    </tr>\n",
       "  </thead>\n",
       "  <tbody>\n",
       "    <tr>\n",
       "      <th>0</th>\n",
       "      <td>2595</td>\n",
       "      <td>225</td>\n",
       "      <td>Manhattan, Midtown</td>\n",
       "    </tr>\n",
       "    <tr>\n",
       "      <th>1</th>\n",
       "      <td>3831</td>\n",
       "      <td>89</td>\n",
       "      <td>Brooklyn, Clinton Hill</td>\n",
       "    </tr>\n",
       "    <tr>\n",
       "      <th>2</th>\n",
       "      <td>5099</td>\n",
       "      <td>200</td>\n",
       "      <td>Manhattan, Murray Hill</td>\n",
       "    </tr>\n",
       "    <tr>\n",
       "      <th>3</th>\n",
       "      <td>5178</td>\n",
       "      <td>79</td>\n",
       "      <td>Manhattan, Hell's Kitchen</td>\n",
       "    </tr>\n",
       "    <tr>\n",
       "      <th>4</th>\n",
       "      <td>5238</td>\n",
       "      <td>150</td>\n",
       "      <td>Manhattan, Chinatown</td>\n",
       "    </tr>\n",
       "  </tbody>\n",
       "</table>\n",
       "</div>"
      ],
      "text/plain": [
       "   listing_id  price                nbhood_full\n",
       "0        2595    225         Manhattan, Midtown\n",
       "1        3831     89     Brooklyn, Clinton Hill\n",
       "2        5099    200     Manhattan, Murray Hill\n",
       "3        5178     79  Manhattan, Hell's Kitchen\n",
       "4        5238    150       Manhattan, Chinatown"
      ]
     },
     "execution_count": 27,
     "metadata": {},
     "output_type": "execute_result"
    }
   ],
   "source": [
    "prices.head()"
   ]
  },
  {
   "cell_type": "code",
   "execution_count": 28,
   "id": "a0597e4e",
   "metadata": {},
   "outputs": [],
   "source": [
    "avg_price = round(prices[\"price\"].mean(), 2)"
   ]
  },
  {
   "cell_type": "code",
   "execution_count": 29,
   "id": "6cd1f231",
   "metadata": {},
   "outputs": [
    {
     "name": "stdout",
     "output_type": "stream",
     "text": [
      "141.82\n"
     ]
    }
   ],
   "source": [
    "print(avg_price)"
   ]
  },
  {
   "cell_type": "code",
   "execution_count": 30,
   "id": "8b580c84",
   "metadata": {},
   "outputs": [
    {
     "data": {
      "text/html": [
       "<div>\n",
       "<style scoped>\n",
       "    .dataframe tbody tr th:only-of-type {\n",
       "        vertical-align: middle;\n",
       "    }\n",
       "\n",
       "    .dataframe tbody tr th {\n",
       "        vertical-align: top;\n",
       "    }\n",
       "\n",
       "    .dataframe thead th {\n",
       "        text-align: right;\n",
       "    }\n",
       "</style>\n",
       "<table border=\"1\" class=\"dataframe\">\n",
       "  <thead>\n",
       "    <tr style=\"text-align: right;\">\n",
       "      <th></th>\n",
       "      <th>listing_id</th>\n",
       "      <th>price</th>\n",
       "    </tr>\n",
       "  </thead>\n",
       "  <tbody>\n",
       "    <tr>\n",
       "      <th>count</th>\n",
       "      <td>2.520200e+04</td>\n",
       "      <td>25202.000000</td>\n",
       "    </tr>\n",
       "    <tr>\n",
       "      <th>mean</th>\n",
       "      <td>2.068920e+07</td>\n",
       "      <td>141.817316</td>\n",
       "    </tr>\n",
       "    <tr>\n",
       "      <th>std</th>\n",
       "      <td>1.103081e+07</td>\n",
       "      <td>147.350650</td>\n",
       "    </tr>\n",
       "    <tr>\n",
       "      <th>min</th>\n",
       "      <td>2.595000e+03</td>\n",
       "      <td>10.000000</td>\n",
       "    </tr>\n",
       "    <tr>\n",
       "      <th>25%</th>\n",
       "      <td>1.202115e+07</td>\n",
       "      <td>69.000000</td>\n",
       "    </tr>\n",
       "    <tr>\n",
       "      <th>50%</th>\n",
       "      <td>2.234547e+07</td>\n",
       "      <td>105.000000</td>\n",
       "    </tr>\n",
       "    <tr>\n",
       "      <th>75%</th>\n",
       "      <td>3.037697e+07</td>\n",
       "      <td>175.000000</td>\n",
       "    </tr>\n",
       "    <tr>\n",
       "      <th>max</th>\n",
       "      <td>3.645581e+07</td>\n",
       "      <td>7500.000000</td>\n",
       "    </tr>\n",
       "  </tbody>\n",
       "</table>\n",
       "</div>"
      ],
      "text/plain": [
       "         listing_id         price\n",
       "count  2.520200e+04  25202.000000\n",
       "mean   2.068920e+07    141.817316\n",
       "std    1.103081e+07    147.350650\n",
       "min    2.595000e+03     10.000000\n",
       "25%    1.202115e+07     69.000000\n",
       "50%    2.234547e+07    105.000000\n",
       "75%    3.037697e+07    175.000000\n",
       "max    3.645581e+07   7500.000000"
      ]
     },
     "execution_count": 30,
     "metadata": {},
     "output_type": "execute_result"
    }
   ],
   "source": [
    "prices.describe()"
   ]
  },
  {
   "cell_type": "code",
   "execution_count": 33,
   "id": "35232766",
   "metadata": {},
   "outputs": [],
   "source": [
    "#Add a new column to the prices DataFrame, price_per_month\n",
    "\n",
    "prices[\"price_per_month\"] = prices[\"price\"] * 365 / 12"
   ]
  },
  {
   "cell_type": "code",
   "execution_count": 34,
   "id": "56394b14",
   "metadata": {},
   "outputs": [],
   "source": [
    "# average_price_per_month\n",
    "\n",
    "average_price_per_month = round(prices[\"price_per_month\"].mean(), 2)\n",
    "difference = round((average_price_per_month - 3100),2)"
   ]
  },
  {
   "cell_type": "code",
   "execution_count": 35,
   "id": "9409da94",
   "metadata": {},
   "outputs": [
    {
     "name": "stdout",
     "output_type": "stream",
     "text": [
      "4313.61\n"
     ]
    }
   ],
   "source": [
    "print(average_price_per_month)"
   ]
  },
  {
   "cell_type": "code",
   "execution_count": 48,
   "id": "fd9db4e1",
   "metadata": {},
   "outputs": [
    {
     "data": {
      "text/plain": [
       "15192       PRIVATE ROOM\n",
       "13934       PRIVATE ROOM\n",
       "10765       PRIVATE ROOM\n",
       "11171       Private room\n",
       "8637        Private room\n",
       "14175    Entire home/apt\n",
       "1840     Entire home/apt\n",
       "16173       Private room\n",
       "19636    ENTIRE HOME/APT\n",
       "22513       Private room\n",
       "Name: room_type, dtype: object"
      ]
     },
     "execution_count": 48,
     "metadata": {},
     "output_type": "execute_result"
    }
   ],
   "source": [
    "room_types['room_type'].sample(10)"
   ]
  },
  {
   "cell_type": "code",
   "execution_count": 49,
   "id": "6a25ed61",
   "metadata": {},
   "outputs": [],
   "source": [
    "# Convert the room_type column to lowercase\n",
    "\n",
    "room_types[\"room_type\"] = room_types[\"room_type\"].str.lower()"
   ]
  },
  {
   "cell_type": "code",
   "execution_count": 50,
   "id": "8e292e47",
   "metadata": {},
   "outputs": [
    {
     "data": {
      "text/plain": [
       "2836     entire home/apt\n",
       "14299    entire home/apt\n",
       "16802       private room\n",
       "20573    entire home/apt\n",
       "22746    entire home/apt\n",
       "23721    entire home/apt\n",
       "2997     entire home/apt\n",
       "16131       private room\n",
       "960      entire home/apt\n",
       "16235       private room\n",
       "Name: room_type, dtype: object"
      ]
     },
     "execution_count": 50,
     "metadata": {},
     "output_type": "execute_result"
    }
   ],
   "source": [
    "room_types['room_type'].sample(10)"
   ]
  },
  {
   "cell_type": "code",
   "execution_count": 51,
   "id": "aa6e346a",
   "metadata": {},
   "outputs": [],
   "source": [
    "# Update the room_type column to category data type\n",
    "\n",
    "room_types[\"room_type\"] = room_types[\"room_type\"].astype(\"category\")\n"
   ]
  },
  {
   "cell_type": "code",
   "execution_count": 52,
   "id": "ccb100e2",
   "metadata": {},
   "outputs": [],
   "source": [
    "assert room_types[\"room_type\"].dtype == 'category'"
   ]
  },
  {
   "cell_type": "code",
   "execution_count": 53,
   "id": "ba484bef",
   "metadata": {},
   "outputs": [],
   "source": [
    "# Create the variable room_frequencies\n",
    "\n",
    "room_frequencies = room_types[\"room_type\"].value_counts()"
   ]
  },
  {
   "cell_type": "code",
   "execution_count": 54,
   "id": "57c27fc0",
   "metadata": {},
   "outputs": [
    {
     "name": "stdout",
     "output_type": "stream",
     "text": [
      "entire home/apt    13266\n",
      "private room       11356\n",
      "shared room          587\n",
      "Name: room_type, dtype: int64\n"
     ]
    }
   ],
   "source": [
    "print(room_frequencies)"
   ]
  },
  {
   "cell_type": "code",
   "execution_count": 57,
   "id": "57fdd7c0",
   "metadata": {},
   "outputs": [
    {
     "data": {
      "text/html": [
       "<div>\n",
       "<style scoped>\n",
       "    .dataframe tbody tr th:only-of-type {\n",
       "        vertical-align: middle;\n",
       "    }\n",
       "\n",
       "    .dataframe tbody tr th {\n",
       "        vertical-align: top;\n",
       "    }\n",
       "\n",
       "    .dataframe thead th {\n",
       "        text-align: right;\n",
       "    }\n",
       "</style>\n",
       "<table border=\"1\" class=\"dataframe\">\n",
       "  <thead>\n",
       "    <tr style=\"text-align: right;\">\n",
       "      <th></th>\n",
       "      <th>listing_id</th>\n",
       "      <th>host_name</th>\n",
       "      <th>last_review</th>\n",
       "    </tr>\n",
       "  </thead>\n",
       "  <tbody>\n",
       "    <tr>\n",
       "      <th>0</th>\n",
       "      <td>2595</td>\n",
       "      <td>Jennifer</td>\n",
       "      <td>May 21 2019</td>\n",
       "    </tr>\n",
       "    <tr>\n",
       "      <th>1</th>\n",
       "      <td>3831</td>\n",
       "      <td>LisaRoxanne</td>\n",
       "      <td>July 05 2019</td>\n",
       "    </tr>\n",
       "    <tr>\n",
       "      <th>2</th>\n",
       "      <td>5099</td>\n",
       "      <td>Chris</td>\n",
       "      <td>June 22 2019</td>\n",
       "    </tr>\n",
       "    <tr>\n",
       "      <th>3</th>\n",
       "      <td>5178</td>\n",
       "      <td>Shunichi</td>\n",
       "      <td>June 24 2019</td>\n",
       "    </tr>\n",
       "    <tr>\n",
       "      <th>4</th>\n",
       "      <td>5238</td>\n",
       "      <td>Ben</td>\n",
       "      <td>June 09 2019</td>\n",
       "    </tr>\n",
       "    <tr>\n",
       "      <th>5</th>\n",
       "      <td>5295</td>\n",
       "      <td>Lena</td>\n",
       "      <td>June 22 2019</td>\n",
       "    </tr>\n",
       "    <tr>\n",
       "      <th>6</th>\n",
       "      <td>5441</td>\n",
       "      <td>Kate</td>\n",
       "      <td>June 23 2019</td>\n",
       "    </tr>\n",
       "    <tr>\n",
       "      <th>7</th>\n",
       "      <td>5803</td>\n",
       "      <td>Laurie</td>\n",
       "      <td>June 24 2019</td>\n",
       "    </tr>\n",
       "    <tr>\n",
       "      <th>8</th>\n",
       "      <td>6021</td>\n",
       "      <td>Claudio</td>\n",
       "      <td>July 05 2019</td>\n",
       "    </tr>\n",
       "    <tr>\n",
       "      <th>9</th>\n",
       "      <td>6848</td>\n",
       "      <td>Allen &amp; Irina</td>\n",
       "      <td>June 29 2019</td>\n",
       "    </tr>\n",
       "  </tbody>\n",
       "</table>\n",
       "</div>"
      ],
      "text/plain": [
       "   listing_id      host_name   last_review\n",
       "0        2595       Jennifer   May 21 2019\n",
       "1        3831    LisaRoxanne  July 05 2019\n",
       "2        5099          Chris  June 22 2019\n",
       "3        5178       Shunichi  June 24 2019\n",
       "4        5238            Ben  June 09 2019\n",
       "5        5295           Lena  June 22 2019\n",
       "6        5441           Kate  June 23 2019\n",
       "7        5803         Laurie  June 24 2019\n",
       "8        6021        Claudio  July 05 2019\n",
       "9        6848  Allen & Irina  June 29 2019"
      ]
     },
     "execution_count": 57,
     "metadata": {},
     "output_type": "execute_result"
    }
   ],
   "source": [
    "reviews.head(10)"
   ]
  },
  {
   "cell_type": "code",
   "execution_count": 59,
   "id": "665248d3",
   "metadata": {},
   "outputs": [],
   "source": [
    "# Change the data type of the last_review column to datetime\n",
    "\n",
    "reviews[\"last_review\"] = pd.to_datetime(reviews[\"last_review\"])"
   ]
  },
  {
   "cell_type": "code",
   "execution_count": 60,
   "id": "b679bada",
   "metadata": {},
   "outputs": [
    {
     "data": {
      "text/plain": [
       "0        2019\n",
       "1        2019\n",
       "2        2019\n",
       "3        2019\n",
       "4        2019\n",
       "         ... \n",
       "25204    2019\n",
       "25205    2019\n",
       "25206    2019\n",
       "25207    2019\n",
       "25208    2019\n",
       "Name: last_review, Length: 25209, dtype: int64"
      ]
     },
     "execution_count": 60,
     "metadata": {},
     "output_type": "execute_result"
    }
   ],
   "source": [
    "reviews['last_review'].dt.year"
   ]
  },
  {
   "cell_type": "code",
   "execution_count": 61,
   "id": "f5f5edad",
   "metadata": {},
   "outputs": [],
   "source": [
    "# Create first_reviewed, the earliest review date\n",
    "\n",
    "first_reviewed = reviews[\"last_review\"].dt.date.min()"
   ]
  },
  {
   "cell_type": "code",
   "execution_count": 62,
   "id": "4510a24c",
   "metadata": {},
   "outputs": [
    {
     "name": "stdout",
     "output_type": "stream",
     "text": [
      "2019-01-01\n"
     ]
    }
   ],
   "source": [
    "print(first_reviewed)"
   ]
  },
  {
   "cell_type": "code",
   "execution_count": 63,
   "id": "1a243898",
   "metadata": {},
   "outputs": [
    {
     "name": "stdout",
     "output_type": "stream",
     "text": [
      "2019-07-09\n"
     ]
    }
   ],
   "source": [
    "# Create last_reviewed, the most recent review date\n",
    "\n",
    "last_reviewed = reviews[\"last_review\"].dt.date.max()\n",
    "print(last_reviewed)"
   ]
  },
  {
   "cell_type": "code",
   "execution_count": 64,
   "id": "3852607d",
   "metadata": {},
   "outputs": [],
   "source": [
    "# join dataframes\n",
    "\n",
    "rooms_and_prices = prices.merge(room_types, how=\"outer\", on=\"listing_id\")\n",
    "airbnb_merged = rooms_and_prices.merge(reviews, how=\"outer\", on=\"listing_id\")\n"
   ]
  },
  {
   "cell_type": "code",
   "execution_count": 66,
   "id": "b329f1da",
   "metadata": {},
   "outputs": [],
   "source": [
    "# Drop missing values from airbnb_merged\n",
    "\n",
    "airbnb_merged.dropna(inplace=True)"
   ]
  },
  {
   "cell_type": "code",
   "execution_count": 67,
   "id": "93fe23ff",
   "metadata": {},
   "outputs": [
    {
     "data": {
      "text/plain": [
       "0"
      ]
     },
     "execution_count": 67,
     "metadata": {},
     "output_type": "execute_result"
    }
   ],
   "source": [
    "airbnb_merged.duplicated().sum()"
   ]
  },
  {
   "cell_type": "code",
   "execution_count": 68,
   "id": "79adc562",
   "metadata": {},
   "outputs": [
    {
     "name": "stdout",
     "output_type": "stream",
     "text": [
      "       listing_id  price                 nbhood_full  price_per_month  \\\n",
      "0            2595  225.0          Manhattan, Midtown      6843.750000   \n",
      "1            3831   89.0      Brooklyn, Clinton Hill      2707.083333   \n",
      "2            5099  200.0      Manhattan, Murray Hill      6083.333333   \n",
      "3            5178   79.0   Manhattan, Hell's Kitchen      2402.916667   \n",
      "4            5238  150.0        Manhattan, Chinatown      4562.500000   \n",
      "...           ...    ...                         ...              ...   \n",
      "25197    36425863  129.0  Manhattan, Upper East Side      3923.750000   \n",
      "25198    36427429   45.0            Queens, Flushing      1368.750000   \n",
      "25199    36438336  235.0  Staten Island, Great Kills      7147.916667   \n",
      "25200    36442252  100.0           Bronx, Mott Haven      3041.666667   \n",
      "25201    36455809   30.0          Brooklyn, Bushwick       912.500000   \n",
      "\n",
      "                                      description        room_type  \\\n",
      "0                           Skylit Midtown Castle  entire home/apt   \n",
      "1                 Cozy Entire Floor of Brownstone  entire home/apt   \n",
      "2       Large Cozy 1 BR Apartment In Midtown East  entire home/apt   \n",
      "3                 Large Furnished Room Near B'way     private room   \n",
      "4              Cute & Cozy Lower East Side 1 bdrm  entire home/apt   \n",
      "...                                           ...              ...   \n",
      "25197  Lovely Privet Bedroom with Privet Restroom     private room   \n",
      "25198                    No.2 with queen size bed     private room   \n",
      "25199                             Seas The Moment     private room   \n",
      "25200               1B-1B apartment near by Metro  entire home/apt   \n",
      "25201     Cozy Private Room in Bushwick, Brooklyn     private room   \n",
      "\n",
      "         host_name last_review  \n",
      "0         Jennifer  2019-05-21  \n",
      "1      LisaRoxanne  2019-07-05  \n",
      "2            Chris  2019-06-22  \n",
      "3         Shunichi  2019-06-24  \n",
      "4              Ben  2019-06-09  \n",
      "...            ...         ...  \n",
      "25197        Rusaa  2019-07-07  \n",
      "25198         H Ai  2019-07-07  \n",
      "25199          Ben  2019-07-07  \n",
      "25200       Blaine  2019-07-07  \n",
      "25201    Christine  2019-07-08  \n",
      "\n",
      "[25184 rows x 8 columns]\n"
     ]
    }
   ],
   "source": [
    "print(airbnb_merged)"
   ]
  },
  {
   "cell_type": "code",
   "execution_count": 69,
   "id": "26eaa7b5",
   "metadata": {},
   "outputs": [],
   "source": [
    "# Extract information from the nbhood_full column and store as a new column, borough\n",
    "\n",
    "airbnb_merged[\"borough\"] = airbnb_merged[\"nbhood_full\"].str.partition(\",\")[0]"
   ]
  },
  {
   "cell_type": "code",
   "execution_count": 70,
   "id": "037c6f84",
   "metadata": {},
   "outputs": [],
   "source": [
    "# Group by borough and calculate summary statistics\n",
    "\n",
    "boroughs = airbnb_merged.groupby(\"borough\")[\"price\"].agg([\"sum\", \"mean\", \"median\", \"count\"])"
   ]
  },
  {
   "cell_type": "code",
   "execution_count": 71,
   "id": "99c1da1e",
   "metadata": {},
   "outputs": [
    {
     "name": "stdout",
     "output_type": "stream",
     "text": [
      "                     sum        mean  median  count\n",
      "borough                                            \n",
      "Bronx            55156.0   79.247126    65.0    696\n",
      "Brooklyn       1275250.0  122.021816    95.0  10451\n",
      "Manhattan      1898417.0  184.044304   149.0  10315\n",
      "Queens          320715.0   92.826339    70.0   3455\n",
      "Staten Island    22974.0   86.044944    71.0    267\n"
     ]
    }
   ],
   "source": [
    "print(boroughs)"
   ]
  },
  {
   "cell_type": "code",
   "execution_count": 72,
   "id": "0175a50d",
   "metadata": {},
   "outputs": [
    {
     "name": "stdout",
     "output_type": "stream",
     "text": [
      "                     sum    mean  median  count\n",
      "borough                                        \n",
      "Manhattan      1898417.0  184.04   149.0  10315\n",
      "Brooklyn       1275250.0  122.02    95.0  10451\n",
      "Queens          320715.0   92.83    70.0   3455\n",
      "Staten Island    22974.0   86.04    71.0    267\n",
      "Bronx            55156.0   79.25    65.0    696\n"
     ]
    }
   ],
   "source": [
    "# Round boroughs to 2 decimal places, and sort by mean in descending order\n",
    "\n",
    "boroughs = boroughs.round(2).sort_values(\"mean\", ascending=False)\n",
    "print(boroughs)"
   ]
  },
  {
   "cell_type": "code",
   "execution_count": 73,
   "id": "b1449322",
   "metadata": {},
   "outputs": [],
   "source": [
    "# Create labels for the price range, label_names\n",
    "\n",
    "label_names = [\"Budget\", \"Average\", \"Expensive\", \"Extravagant\"]"
   ]
  },
  {
   "cell_type": "code",
   "execution_count": 74,
   "id": "f0653132",
   "metadata": {},
   "outputs": [],
   "source": [
    "# Create the label ranges, ranges\n",
    "\n",
    "ranges = [0, 69, 175, 350, np.inf]\n"
   ]
  },
  {
   "cell_type": "code",
   "execution_count": 75,
   "id": "bf5b6f29",
   "metadata": {},
   "outputs": [
    {
     "name": "stdout",
     "output_type": "stream",
     "text": [
      "[0, 69, 175, 350, inf]\n"
     ]
    }
   ],
   "source": [
    "print(ranges)"
   ]
  },
  {
   "cell_type": "code",
   "execution_count": 77,
   "id": "37cc5049",
   "metadata": {},
   "outputs": [
    {
     "name": "stdout",
     "output_type": "stream",
     "text": [
      "0        Expensive\n",
      "1          Average\n",
      "2        Expensive\n",
      "3          Average\n",
      "4          Average\n",
      "           ...    \n",
      "25197      Average\n",
      "25198       Budget\n",
      "25199    Expensive\n",
      "25200      Average\n",
      "25201       Budget\n",
      "Name: price_range, Length: 25184, dtype: category\n",
      "Categories (4, object): ['Budget' < 'Average' < 'Expensive' < 'Extravagant']\n"
     ]
    }
   ],
   "source": [
    "# Insert new column, price_range, into DataFrame\n",
    "\n",
    "airbnb_merged[\"price_range\"] = pd.cut(airbnb_merged[\"price\"], bins=ranges, labels=label_names)\n",
    "print(airbnb_merged[\"price_range\"])"
   ]
  },
  {
   "cell_type": "code",
   "execution_count": 78,
   "id": "324ccf14",
   "metadata": {},
   "outputs": [
    {
     "name": "stdout",
     "output_type": "stream",
     "text": [
      "borough        price_range\n",
      "Bronx          Budget          381\n",
      "               Average         285\n",
      "               Expensive        25\n",
      "               Extravagant       5\n",
      "Brooklyn       Budget         3194\n",
      "               Average        5532\n",
      "               Expensive      1466\n",
      "               Extravagant     259\n",
      "Manhattan      Budget         1148\n",
      "               Average        5285\n",
      "               Expensive      3072\n",
      "               Extravagant     810\n",
      "Queens         Budget         1631\n",
      "               Average        1505\n",
      "               Expensive       291\n",
      "               Extravagant      28\n",
      "Staten Island  Budget          124\n",
      "               Average         123\n",
      "               Expensive        20\n",
      "               Extravagant       0\n",
      "Name: price_range, dtype: int64\n"
     ]
    }
   ],
   "source": [
    "# Calculate occurence frequencies for each label, prices_by_borough\n",
    "\n",
    "prices_by_borough = airbnb_merged.groupby([\"borough\", \"price_range\"])[\"price_range\"].count()\n",
    "print(prices_by_borough)"
   ]
  },
  {
   "cell_type": "code",
   "execution_count": 80,
   "id": "bbfa5004",
   "metadata": {},
   "outputs": [],
   "source": [
    "airbnb_analysis = {'avg_price':avg_price,\n",
    "            'average_price_per_month': average_price_per_month,  \n",
    "            'difference':difference,          \n",
    "            'room_frequencies':room_frequencies, \n",
    "            'first_reviewed': first_reviewed,\n",
    "            'last_reviewed': last_reviewed,\n",
    "            'prices_by_borough':prices_by_borough}"
   ]
  },
  {
   "cell_type": "code",
   "execution_count": 81,
   "id": "ecb215cc",
   "metadata": {},
   "outputs": [
    {
     "name": "stdout",
     "output_type": "stream",
     "text": [
      "{'avg_price': 141.82, 'average_price_per_month': 4313.61, 'difference': 1213.61, 'room_frequencies': entire home/apt    13266\n",
      "private room       11356\n",
      "shared room          587\n",
      "Name: room_type, dtype: int64, 'first_reviewed': datetime.date(2019, 1, 1), 'last_reviewed': datetime.date(2019, 7, 9), 'prices_by_borough': borough        price_range\n",
      "Bronx          Budget          381\n",
      "               Average         285\n",
      "               Expensive        25\n",
      "               Extravagant       5\n",
      "Brooklyn       Budget         3194\n",
      "               Average        5532\n",
      "               Expensive      1466\n",
      "               Extravagant     259\n",
      "Manhattan      Budget         1148\n",
      "               Average        5285\n",
      "               Expensive      3072\n",
      "               Extravagant     810\n",
      "Queens         Budget         1631\n",
      "               Average        1505\n",
      "               Expensive       291\n",
      "               Extravagant      28\n",
      "Staten Island  Budget          124\n",
      "               Average         123\n",
      "               Expensive        20\n",
      "               Extravagant       0\n",
      "Name: price_range, dtype: int64}\n"
     ]
    }
   ],
   "source": [
    "print(airbnb_analysis)"
   ]
  },
  {
   "cell_type": "code",
   "execution_count": null,
   "id": "56ae4b33",
   "metadata": {},
   "outputs": [],
   "source": []
  }
 ],
 "metadata": {
  "kernelspec": {
   "display_name": "Python 3 (ipykernel)",
   "language": "python",
   "name": "python3"
  },
  "language_info": {
   "codemirror_mode": {
    "name": "ipython",
    "version": 3
   },
   "file_extension": ".py",
   "mimetype": "text/x-python",
   "name": "python",
   "nbconvert_exporter": "python",
   "pygments_lexer": "ipython3",
   "version": "3.9.13"
  }
 },
 "nbformat": 4,
 "nbformat_minor": 5
}
